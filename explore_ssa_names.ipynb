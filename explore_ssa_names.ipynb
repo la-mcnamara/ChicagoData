{
 "metadata": {
  "language_info": {
   "codemirror_mode": {
    "name": "ipython",
    "version": 3
   },
   "file_extension": ".py",
   "mimetype": "text/x-python",
   "name": "python",
   "nbconvert_exporter": "python",
   "pygments_lexer": "ipython3",
   "version": "3.8.3-final"
  },
  "orig_nbformat": 2,
  "kernelspec": {
   "name": "python3",
   "display_name": "Python 3.8.3 64-bit ('base': conda)",
   "metadata": {
    "interpreter": {
     "hash": "344443636c3027c5042750c9c609acdda283a9c43681b128a8c1053e7ad2aa7d"
    }
   }
  }
 },
 "nbformat": 4,
 "nbformat_minor": 2,
 "cells": [
  {
   "source": [
    "# Explore Social Security Name Data\n"
   ],
   "cell_type": "markdown",
   "metadata": {}
  },
  {
   "source": [
    "## Set up environment"
   ],
   "cell_type": "markdown",
   "metadata": {}
  },
  {
   "cell_type": "code",
   "execution_count": 18,
   "metadata": {},
   "outputs": [],
   "source": [
    "# import packages\n",
    "import pandas as pd\n",
    "import matplotlib.pyplot as plt\n",
    "import os\n",
    "import numpy as np \n",
    "import freqit\n",
    "import re\n",
    "from pandas_profiling import ProfileReport\n",
    "\n",
    "# set working directory\n",
    "os.chdir(\"/Users/Lauren/Documents/Python/ChicagoData\")\n",
    "# os.getcwd()\n",
    "# os.listdir('.')\n",
    "\n",
    "# color palette\n",
    "# source: https://learnui.design/tools/data-color-picker.html#palette\n",
    "pdblue = '#003f5c'\n",
    "plblue = '#444e86'\n",
    "ppurple = '#955196'\n",
    "ppink = '#dd5182'\n",
    "porange = '#ff6e54'\n",
    "pyellow = '#ffa600'\n",
    "pgray = '#64666B'"
   ]
  },
  {
   "cell_type": "code",
   "execution_count": 7,
   "metadata": {},
   "outputs": [],
   "source": [
    "# set file paths\n",
    "datapath = r\"/Users/Lauren/Documents/Python/data/ssa_names_natl\""
   ]
  },
  {
   "source": [
    "## Get Data"
   ],
   "cell_type": "markdown",
   "metadata": {}
  },
  {
   "source": [
    "The ssa datasets are in csv text files, one file per year. Also in the data folder is a pdf readme about the datafiles. We want to read in the data and skip over the readme."
   ],
   "cell_type": "markdown",
   "metadata": {}
  },
  {
   "cell_type": "code",
   "execution_count": 24,
   "metadata": {},
   "outputs": [
    {
     "output_type": "execute_result",
     "data": {
      "text/plain": [
       "141"
      ]
     },
     "metadata": {},
     "execution_count": 24
    }
   ],
   "source": [
    "# get list of files in data folder\n",
    "os.chdir(datapath)\n",
    "files = os.listdir('.')\n",
    "len(files)"
   ]
  },
  {
   "cell_type": "code",
   "execution_count": 27,
   "metadata": {},
   "outputs": [
    {
     "output_type": "execute_result",
     "data": {
      "text/plain": [
       "140"
      ]
     },
     "metadata": {},
     "execution_count": 27
    }
   ],
   "source": [
    "# keep files of format yob+year+.txt\n",
    "pattern = 'yob[0-9]{4}.txt'\n",
    "files = [i for i in files if re.search(pattern, i)]\n",
    "len(files)"
   ]
  },
  {
   "cell_type": "code",
   "execution_count": 35,
   "metadata": {},
   "outputs": [
    {
     "output_type": "execute_result",
     "data": {
      "text/plain": [
       "2008    35084\n",
       "2007    34962\n",
       "2009    34715\n",
       "2006    34094\n",
       "2010    34082\n",
       "        ...  \n",
       "1885     2294\n",
       "1882     2127\n",
       "1883     2084\n",
       "1880     2000\n",
       "1881     1935\n",
       "Name: year, Length: 140, dtype: int64"
      ]
     },
     "metadata": {},
     "execution_count": 35
    }
   ],
   "source": [
    "namedf = pd.DataFrame()\n",
    "colnames = ['name','gender','count']\n",
    "for f in files:\n",
    "    df = pd.read_csv(datapath+'/'+f\n",
    "                    ,names=colnames)\n",
    "    df['year'] = re.search('[0-9]{4}', f).group(0)\n",
    "    namedf = namedf.append(df)\n",
    "\n",
    "namedf.year.value_counts()"
   ]
  },
  {
   "cell_type": "code",
   "execution_count": 36,
   "metadata": {},
   "outputs": [
    {
     "output_type": "execute_result",
     "data": {
      "text/plain": [
       "         name gender  count  year\n",
       "0       Emily      F  25957  2000\n",
       "1      Hannah      F  23083  2000\n",
       "2     Madison      F  19968  2000\n",
       "3      Ashley      F  17997  2000\n",
       "4       Sarah      F  17705  2000\n",
       "5      Alexis      F  17630  2000\n",
       "6    Samantha      F  17265  2000\n",
       "7     Jessica      F  15709  2000\n",
       "8   Elizabeth      F  15105  2000\n",
       "9      Taylor      F  15078  2000\n",
       "10     Lauren      F  14175  2000\n",
       "11     Alyssa      F  13553  2000\n",
       "12      Kayla      F  13312  2000\n",
       "13    Abigail      F  13090  2000\n",
       "14    Brianna      F  12880  2000\n",
       "15     Olivia      F  12852  2000\n",
       "16       Emma      F  12555  2000\n",
       "17      Megan      F  11434  2000\n",
       "18      Grace      F  11285  2000\n",
       "19   Victoria      F  10926  2000\n",
       "20     Rachel      F  10679  2000\n",
       "21       Anna      F  10593  2000\n",
       "22     Sydney      F  10242  2000\n",
       "23    Destiny      F   9850  2000\n",
       "24     Morgan      F   9502  2000"
      ],
      "text/html": "<div>\n<style scoped>\n    .dataframe tbody tr th:only-of-type {\n        vertical-align: middle;\n    }\n\n    .dataframe tbody tr th {\n        vertical-align: top;\n    }\n\n    .dataframe thead th {\n        text-align: right;\n    }\n</style>\n<table border=\"1\" class=\"dataframe\">\n  <thead>\n    <tr style=\"text-align: right;\">\n      <th></th>\n      <th>name</th>\n      <th>gender</th>\n      <th>count</th>\n      <th>year</th>\n    </tr>\n  </thead>\n  <tbody>\n    <tr>\n      <th>0</th>\n      <td>Emily</td>\n      <td>F</td>\n      <td>25957</td>\n      <td>2000</td>\n    </tr>\n    <tr>\n      <th>1</th>\n      <td>Hannah</td>\n      <td>F</td>\n      <td>23083</td>\n      <td>2000</td>\n    </tr>\n    <tr>\n      <th>2</th>\n      <td>Madison</td>\n      <td>F</td>\n      <td>19968</td>\n      <td>2000</td>\n    </tr>\n    <tr>\n      <th>3</th>\n      <td>Ashley</td>\n      <td>F</td>\n      <td>17997</td>\n      <td>2000</td>\n    </tr>\n    <tr>\n      <th>4</th>\n      <td>Sarah</td>\n      <td>F</td>\n      <td>17705</td>\n      <td>2000</td>\n    </tr>\n    <tr>\n      <th>5</th>\n      <td>Alexis</td>\n      <td>F</td>\n      <td>17630</td>\n      <td>2000</td>\n    </tr>\n    <tr>\n      <th>6</th>\n      <td>Samantha</td>\n      <td>F</td>\n      <td>17265</td>\n      <td>2000</td>\n    </tr>\n    <tr>\n      <th>7</th>\n      <td>Jessica</td>\n      <td>F</td>\n      <td>15709</td>\n      <td>2000</td>\n    </tr>\n    <tr>\n      <th>8</th>\n      <td>Elizabeth</td>\n      <td>F</td>\n      <td>15105</td>\n      <td>2000</td>\n    </tr>\n    <tr>\n      <th>9</th>\n      <td>Taylor</td>\n      <td>F</td>\n      <td>15078</td>\n      <td>2000</td>\n    </tr>\n    <tr>\n      <th>10</th>\n      <td>Lauren</td>\n      <td>F</td>\n      <td>14175</td>\n      <td>2000</td>\n    </tr>\n    <tr>\n      <th>11</th>\n      <td>Alyssa</td>\n      <td>F</td>\n      <td>13553</td>\n      <td>2000</td>\n    </tr>\n    <tr>\n      <th>12</th>\n      <td>Kayla</td>\n      <td>F</td>\n      <td>13312</td>\n      <td>2000</td>\n    </tr>\n    <tr>\n      <th>13</th>\n      <td>Abigail</td>\n      <td>F</td>\n      <td>13090</td>\n      <td>2000</td>\n    </tr>\n    <tr>\n      <th>14</th>\n      <td>Brianna</td>\n      <td>F</td>\n      <td>12880</td>\n      <td>2000</td>\n    </tr>\n    <tr>\n      <th>15</th>\n      <td>Olivia</td>\n      <td>F</td>\n      <td>12852</td>\n      <td>2000</td>\n    </tr>\n    <tr>\n      <th>16</th>\n      <td>Emma</td>\n      <td>F</td>\n      <td>12555</td>\n      <td>2000</td>\n    </tr>\n    <tr>\n      <th>17</th>\n      <td>Megan</td>\n      <td>F</td>\n      <td>11434</td>\n      <td>2000</td>\n    </tr>\n    <tr>\n      <th>18</th>\n      <td>Grace</td>\n      <td>F</td>\n      <td>11285</td>\n      <td>2000</td>\n    </tr>\n    <tr>\n      <th>19</th>\n      <td>Victoria</td>\n      <td>F</td>\n      <td>10926</td>\n      <td>2000</td>\n    </tr>\n    <tr>\n      <th>20</th>\n      <td>Rachel</td>\n      <td>F</td>\n      <td>10679</td>\n      <td>2000</td>\n    </tr>\n    <tr>\n      <th>21</th>\n      <td>Anna</td>\n      <td>F</td>\n      <td>10593</td>\n      <td>2000</td>\n    </tr>\n    <tr>\n      <th>22</th>\n      <td>Sydney</td>\n      <td>F</td>\n      <td>10242</td>\n      <td>2000</td>\n    </tr>\n    <tr>\n      <th>23</th>\n      <td>Destiny</td>\n      <td>F</td>\n      <td>9850</td>\n      <td>2000</td>\n    </tr>\n    <tr>\n      <th>24</th>\n      <td>Morgan</td>\n      <td>F</td>\n      <td>9502</td>\n      <td>2000</td>\n    </tr>\n  </tbody>\n</table>\n</div>"
     },
     "metadata": {},
     "execution_count": 36
    }
   ],
   "source": [
    "namedf.head(25)"
   ]
  },
  {
   "cell_type": "code",
   "execution_count": 37,
   "metadata": {},
   "outputs": [
    {
     "output_type": "execute_result",
     "data": {
      "text/plain": [
       "          name gender  count  year\n",
       "31929      Zeo      M      5  2019\n",
       "31930   Zeplyn      M      5  2019\n",
       "31931  Zerrick      M      5  2019\n",
       "31932   Zeshan      M      5  2019\n",
       "31933     Zeyn      M      5  2019\n",
       "31934      Zhi      M      5  2019\n",
       "31935   Ziayre      M      5  2019\n",
       "31936   Zichen      M      5  2019\n",
       "31937   Ziheng      M      5  2019\n",
       "31938      Zio      M      5  2019\n",
       "31939   Ziquan      M      5  2019\n",
       "31940     Zire      M      5  2019\n",
       "31941     Zkai      M      5  2019\n",
       "31942    Zolin      M      5  2019\n",
       "31943    Zoser      M      5  2019\n",
       "31944   Zurain      M      5  2019\n",
       "31945     Zyah      M      5  2019\n",
       "31946    Zyare      M      5  2019\n",
       "31947  Zygmunt      M      5  2019\n",
       "31948  Zyhaire      M      5  2019\n",
       "31949   Zyheem      M      5  2019\n",
       "31950    Zykel      M      5  2019\n",
       "31951   Zyking      M      5  2019\n",
       "31952      Zyn      M      5  2019\n",
       "31953    Zyran      M      5  2019"
      ],
      "text/html": "<div>\n<style scoped>\n    .dataframe tbody tr th:only-of-type {\n        vertical-align: middle;\n    }\n\n    .dataframe tbody tr th {\n        vertical-align: top;\n    }\n\n    .dataframe thead th {\n        text-align: right;\n    }\n</style>\n<table border=\"1\" class=\"dataframe\">\n  <thead>\n    <tr style=\"text-align: right;\">\n      <th></th>\n      <th>name</th>\n      <th>gender</th>\n      <th>count</th>\n      <th>year</th>\n    </tr>\n  </thead>\n  <tbody>\n    <tr>\n      <th>31929</th>\n      <td>Zeo</td>\n      <td>M</td>\n      <td>5</td>\n      <td>2019</td>\n    </tr>\n    <tr>\n      <th>31930</th>\n      <td>Zeplyn</td>\n      <td>M</td>\n      <td>5</td>\n      <td>2019</td>\n    </tr>\n    <tr>\n      <th>31931</th>\n      <td>Zerrick</td>\n      <td>M</td>\n      <td>5</td>\n      <td>2019</td>\n    </tr>\n    <tr>\n      <th>31932</th>\n      <td>Zeshan</td>\n      <td>M</td>\n      <td>5</td>\n      <td>2019</td>\n    </tr>\n    <tr>\n      <th>31933</th>\n      <td>Zeyn</td>\n      <td>M</td>\n      <td>5</td>\n      <td>2019</td>\n    </tr>\n    <tr>\n      <th>31934</th>\n      <td>Zhi</td>\n      <td>M</td>\n      <td>5</td>\n      <td>2019</td>\n    </tr>\n    <tr>\n      <th>31935</th>\n      <td>Ziayre</td>\n      <td>M</td>\n      <td>5</td>\n      <td>2019</td>\n    </tr>\n    <tr>\n      <th>31936</th>\n      <td>Zichen</td>\n      <td>M</td>\n      <td>5</td>\n      <td>2019</td>\n    </tr>\n    <tr>\n      <th>31937</th>\n      <td>Ziheng</td>\n      <td>M</td>\n      <td>5</td>\n      <td>2019</td>\n    </tr>\n    <tr>\n      <th>31938</th>\n      <td>Zio</td>\n      <td>M</td>\n      <td>5</td>\n      <td>2019</td>\n    </tr>\n    <tr>\n      <th>31939</th>\n      <td>Ziquan</td>\n      <td>M</td>\n      <td>5</td>\n      <td>2019</td>\n    </tr>\n    <tr>\n      <th>31940</th>\n      <td>Zire</td>\n      <td>M</td>\n      <td>5</td>\n      <td>2019</td>\n    </tr>\n    <tr>\n      <th>31941</th>\n      <td>Zkai</td>\n      <td>M</td>\n      <td>5</td>\n      <td>2019</td>\n    </tr>\n    <tr>\n      <th>31942</th>\n      <td>Zolin</td>\n      <td>M</td>\n      <td>5</td>\n      <td>2019</td>\n    </tr>\n    <tr>\n      <th>31943</th>\n      <td>Zoser</td>\n      <td>M</td>\n      <td>5</td>\n      <td>2019</td>\n    </tr>\n    <tr>\n      <th>31944</th>\n      <td>Zurain</td>\n      <td>M</td>\n      <td>5</td>\n      <td>2019</td>\n    </tr>\n    <tr>\n      <th>31945</th>\n      <td>Zyah</td>\n      <td>M</td>\n      <td>5</td>\n      <td>2019</td>\n    </tr>\n    <tr>\n      <th>31946</th>\n      <td>Zyare</td>\n      <td>M</td>\n      <td>5</td>\n      <td>2019</td>\n    </tr>\n    <tr>\n      <th>31947</th>\n      <td>Zygmunt</td>\n      <td>M</td>\n      <td>5</td>\n      <td>2019</td>\n    </tr>\n    <tr>\n      <th>31948</th>\n      <td>Zyhaire</td>\n      <td>M</td>\n      <td>5</td>\n      <td>2019</td>\n    </tr>\n    <tr>\n      <th>31949</th>\n      <td>Zyheem</td>\n      <td>M</td>\n      <td>5</td>\n      <td>2019</td>\n    </tr>\n    <tr>\n      <th>31950</th>\n      <td>Zykel</td>\n      <td>M</td>\n      <td>5</td>\n      <td>2019</td>\n    </tr>\n    <tr>\n      <th>31951</th>\n      <td>Zyking</td>\n      <td>M</td>\n      <td>5</td>\n      <td>2019</td>\n    </tr>\n    <tr>\n      <th>31952</th>\n      <td>Zyn</td>\n      <td>M</td>\n      <td>5</td>\n      <td>2019</td>\n    </tr>\n    <tr>\n      <th>31953</th>\n      <td>Zyran</td>\n      <td>M</td>\n      <td>5</td>\n      <td>2019</td>\n    </tr>\n  </tbody>\n</table>\n</div>"
     },
     "metadata": {},
     "execution_count": 37
    }
   ],
   "source": [
    "namedf.tail(25)"
   ]
  },
  {
   "cell_type": "code",
   "execution_count": null,
   "metadata": {},
   "outputs": [],
   "source": []
  },
  {
   "cell_type": "code",
   "execution_count": null,
   "metadata": {},
   "outputs": [],
   "source": []
  }
 ]
}